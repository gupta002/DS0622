{
 "cells": [
  {
   "cell_type": "markdown",
   "id": "5afe60c8",
   "metadata": {},
   "source": [
    "Write a python function print pyramid of stars. Level of the pyramid should be taken as an input from the user. E.g. Input = 5 "
   ]
  },
  {
   "cell_type": "code",
   "execution_count": 9,
   "id": "660fcd5d",
   "metadata": {},
   "outputs": [],
   "source": [
    "def pypart(n):\n",
    "    for i in range(0, n):\n",
    "        for j in range(0, i+1):\n",
    "            print(\"* \",end=\"\")\n",
    "        print(\"\\r\")"
   ]
  },
  {
   "cell_type": "code",
   "execution_count": 10,
   "id": "ea09925f",
   "metadata": {},
   "outputs": [
    {
     "name": "stdout",
     "output_type": "stream",
     "text": [
      "* \r\n",
      "* * \r\n",
      "* * * \r\n",
      "* * * * \r\n",
      "* * * * * \r\n"
     ]
    }
   ],
   "source": [
    "n = 5\n",
    "pypart(n)"
   ]
  },
  {
   "cell_type": "markdown",
   "id": "127604ba",
   "metadata": {},
   "source": [
    "Write a python function print Hourglass pattern. E.g. Input = 5 "
   ]
  },
  {
   "cell_type": "code",
   "execution_count": 11,
   "id": "592fad08",
   "metadata": {},
   "outputs": [
    {
     "name": "stdout",
     "output_type": "stream",
     "text": [
      "Enter number of rows: 5\n",
      "Generated Hourglass Pattern is: \n",
      "*********\n",
      " *******\n",
      "  *****\n",
      "   ***\n",
      "    *\n",
      "   ***\n",
      "  *****\n",
      " *******\n",
      "*********\n"
     ]
    }
   ],
   "source": [
    "row = int(input(\"Enter number of rows: \"))\n",
    "\n",
    "print(\"Generated Hourglass Pattern is: \")\n",
    "\n",
    "for i in range(row, 0, -1):\n",
    "    for j in range(row-i):\n",
    "        print(\" \", end=\"\")\n",
    "    for j in range(1, 2*i):\n",
    "        print(\"*\", end=\"\")\n",
    "    print()\n",
    "\n",
    "\n",
    "for i in range(2, row+1):\n",
    "    for j in range(row-i):\n",
    "        print(\" \", end=\"\")\n",
    "    for j in range(1, 2*i):\n",
    "        print(\"*\", end=\"\")\n",
    "    print()"
   ]
  },
  {
   "cell_type": "markdown",
   "id": "80a78c10",
   "metadata": {},
   "source": [
    "Write a python function to print Pascal’s Triangle. The number of levels in the triangle must be taken as input by the user. E.g. Input = 5 "
   ]
  },
  {
   "cell_type": "code",
   "execution_count": 14,
   "id": "06a63c73",
   "metadata": {},
   "outputs": [
    {
     "name": "stdout",
     "output_type": "stream",
     "text": [
      "      1 \n",
      "     1 1 \n",
      "    1 2 1 \n",
      "   1 3 3 1 \n",
      "  1 4 6 4 1 \n"
     ]
    }
   ],
   "source": [
    "from math import factorial\n",
    "n = 5\n",
    "for i in range(n):\n",
    "    for j in range(n-i+1):\n",
    "        print(end=\" \")\n",
    "    for j in range(i+1):\n",
    "        print(factorial(i)//(factorial(j)*factorial(i-j)), end=\" \")\n",
    "    print()\n"
   ]
  },
  {
   "cell_type": "markdown",
   "id": "805388cb",
   "metadata": {},
   "source": [
    "Write a python function to print Diamond Shaped Pattern shown below. Function must take integer input which represents the number of stars in the middle most line. E.g.: Input = 5 "
   ]
  },
  {
   "cell_type": "code",
   "execution_count": 15,
   "id": "61b8ee64",
   "metadata": {},
   "outputs": [
    {
     "name": "stdout",
     "output_type": "stream",
     "text": [
      "    *\n",
      "   ***\n",
      "  *****\n",
      " *******\n",
      "*********\n",
      " *******\n",
      "  *****\n",
      "   ***\n",
      "    *\n"
     ]
    }
   ],
   "source": [
    "def Diamond(rows):\n",
    "    n = 0\n",
    "    for i in range(1, rows + 1):\n",
    "        # loop to print spaces\n",
    "        for j in range (1, (rows - i) + 1):\n",
    "            print(end = \" \")\n",
    "          \n",
    "        # loop to print star\n",
    "        while n != (2 * i - 1):\n",
    "            print(\"*\", end = \"\")\n",
    "            n = n + 1\n",
    "        n = 0\n",
    "          \n",
    "        # line break\n",
    "        print() \n",
    "  \n",
    "    k = 1\n",
    "    n = 1\n",
    "    for i in range(1, rows):\n",
    "        # loop to print spaces\n",
    "        for j in range (1, k + 1):\n",
    "            print(end = \" \")\n",
    "        k = k + 1\n",
    "          \n",
    "        # loop to print star\n",
    "        while n <= (2 * (rows - i) - 1):\n",
    "            print(\"*\", end = \"\")\n",
    "            n = n + 1\n",
    "        n = 1\n",
    "        print()\n",
    "rows = 5\n",
    "Diamond(rows)"
   ]
  },
  {
   "cell_type": "markdown",
   "id": "e3466ecf",
   "metadata": {},
   "source": [
    "Write a python function to print Diamond Shaped Character Pattern shown below. Function must take integer input within range 1 to 26, which represents the rank of the alphabet. E.g.:  Input = 5 "
   ]
  },
  {
   "cell_type": "code",
   "execution_count": 16,
   "id": "5bf98276",
   "metadata": {},
   "outputs": [
    {
     "name": "stdout",
     "output_type": "stream",
     "text": [
      "please enter diamond's height:26\n",
      "                           *\n",
      "                          ***\n",
      "                         *****\n",
      "                        *******\n",
      "                       *********\n",
      "                      ***********\n",
      "                     *************\n",
      "                    ***************\n",
      "                   *****************\n",
      "                  *******************\n",
      "                 *********************\n",
      "                ***********************\n",
      "               *************************\n",
      "              ***************************\n",
      "             *****************************\n",
      "            *******************************\n",
      "           *********************************\n",
      "          ***********************************\n",
      "         *************************************\n",
      "        ***************************************\n",
      "       *****************************************\n",
      "      *******************************************\n",
      "     *********************************************\n",
      "    ***********************************************\n",
      "   *************************************************\n",
      "  ***************************************************\n",
      "   *************************************************\n",
      "    ***********************************************\n",
      "     *********************************************\n",
      "      *******************************************\n",
      "       *****************************************\n",
      "        ***************************************\n",
      "         *************************************\n",
      "          ***********************************\n",
      "           *********************************\n",
      "            *******************************\n",
      "             *****************************\n",
      "              ***************************\n",
      "               *************************\n",
      "                ***********************\n",
      "                 *********************\n",
      "                  *******************\n",
      "                   *****************\n",
      "                    ***************\n",
      "                     *************\n",
      "                      ***********\n",
      "                       *********\n",
      "                        *******\n",
      "                         *****\n",
      "                          ***\n",
      "                           *\n"
     ]
    }
   ],
   "source": [
    "h = eval(input(\"please enter diamond's height:\"))\n",
    "\n",
    "for i in range(h):\n",
    "    print(\" \"*(h-i), \"*\"*(i*2+1))\n",
    "for i in range(h-2, -1, -1):\n",
    "    print(\" \"*(h-i), \"*\"*(i*2+1))\n"
   ]
  },
  {
   "cell_type": "code",
   "execution_count": null,
   "id": "0b959d1a",
   "metadata": {},
   "outputs": [],
   "source": []
  }
 ],
 "metadata": {
  "kernelspec": {
   "display_name": "Python 3 (ipykernel)",
   "language": "python",
   "name": "python3"
  },
  "language_info": {
   "codemirror_mode": {
    "name": "ipython",
    "version": 3
   },
   "file_extension": ".py",
   "mimetype": "text/x-python",
   "name": "python",
   "nbconvert_exporter": "python",
   "pygments_lexer": "ipython3",
   "version": "3.9.12"
  }
 },
 "nbformat": 4,
 "nbformat_minor": 5
}
