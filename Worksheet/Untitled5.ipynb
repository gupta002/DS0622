{
 "cells": [
  {
   "cell_type": "markdown",
   "id": "8e473889",
   "metadata": {},
   "source": [
    "Write a python program to find the factorial of a number"
   ]
  },
  {
   "cell_type": "code",
   "execution_count": 2,
   "id": "a07f0938",
   "metadata": {},
   "outputs": [
    {
     "name": "stdout",
     "output_type": "stream",
     "text": [
      "Enter a number: 4\n",
      "The factorial of 4 is 24\n"
     ]
    }
   ],
   "source": [
    "num = 5\n",
    "num = int(input(\"Enter a number: \"))\n",
    "factorial = 1\n",
    "\n",
    "if num < 0:\n",
    "   print(\"Sorry, factorial does not exist for negative numbers\")\n",
    "elif num == 0:\n",
    "   print(\"The factorial of 0 is 1\")\n",
    "else:\n",
    "   for i in range(1,num + 1):\n",
    "       factorial = factorial*i\n",
    "   print(\"The factorial of\",num,\"is\",factorial)"
   ]
  },
  {
   "cell_type": "markdown",
   "id": "3e430ebe",
   "metadata": {},
   "source": [
    "Write a python program to find whether a number is prime or composite"
   ]
  },
  {
   "cell_type": "code",
   "execution_count": 8,
   "id": "b2c448a0",
   "metadata": {},
   "outputs": [
    {
     "name": "stdout",
     "output_type": "stream",
     "text": [
      "3 is a prime number\n"
     ]
    }
   ],
   "source": [
    "n = 3\n",
    "if n > 1:\n",
    "    for i in range(2, int(n/2)+1):\n",
    "        if (n % i) == 0:\n",
    "            print(num, \"is not a prime number\")\n",
    "            break\n",
    "    else:\n",
    "\n",
    "        print(n, \"is a prime number\")\n",
    "# If the number is less than 1, its also not a prime number.\n",
    "else:\n",
    "    print(n, \"is not a prime number\")"
   ]
  },
  {
   "cell_type": "markdown",
   "id": "b527d6eb",
   "metadata": {},
   "source": [
    "Write a python program to check whether a given string is palindrome or not."
   ]
  },
  {
   "cell_type": "code",
   "execution_count": 9,
   "id": "21371d83",
   "metadata": {},
   "outputs": [
    {
     "name": "stdout",
     "output_type": "stream",
     "text": [
      "The string is a palindrome.\n"
     ]
    }
   ],
   "source": [
    "my_str = 'aIbohPhoBiA'\n",
    "\n",
    "# make it suitable for caseless comparison\n",
    "my_str = my_str.casefold()\n",
    "\n",
    "# reverse the string\n",
    "rev_str = reversed(my_str)\n",
    "\n",
    "# check if the string is equal to its reverse\n",
    "if list(my_str) == list(rev_str):\n",
    "   print(\"The string is a palindrome.\")\n",
    "else:\n",
    "   print(\"The string is not a palindrome.\")"
   ]
  },
  {
   "cell_type": "markdown",
   "id": "d860ed07",
   "metadata": {},
   "source": [
    "Write a Python program to get the third side of right-angled triangle from two given sides."
   ]
  },
  {
   "cell_type": "code",
   "execution_count": 10,
   "id": "56121809",
   "metadata": {},
   "outputs": [
    {
     "name": "stdout",
     "output_type": "stream",
     "text": [
      "Enter base: 10\n",
      "Enter height: 20\n",
      "Enter angle: 90\n",
      "Hypotenuse = 22.360679774997898\n"
     ]
    }
   ],
   "source": [
    "import math\n",
    "\n",
    "a = float(input(\"Enter base: \"))\n",
    "b = float(input(\"Enter height: \"))\n",
    "c= float(input(\"Enter angle: \"))\n",
    "\n",
    "x = math.sqrt(a ** 2 + b ** 2)\n",
    "\n",
    "print(\"Hypotenuse =\", x)"
   ]
  },
  {
   "cell_type": "markdown",
   "id": "f763d93c",
   "metadata": {},
   "source": [
    "Write a python program to print the frequency of each of the characters present in a given string."
   ]
  },
  {
   "cell_type": "code",
   "execution_count": 11,
   "id": "78c923da",
   "metadata": {},
   "outputs": [
    {
     "name": "stdout",
     "output_type": "stream",
     "text": [
      "Enter the String: hello\n",
      "{'h': 1, 'e': 1, 'l': 2, 'o': 1}\n"
     ]
    }
   ],
   "source": [
    "n=input(\"Enter the String: \").lower()\n",
    "s={}\n",
    "for i in n:\n",
    "    if i in s:\n",
    "        s[i]+=1\n",
    "    else:\n",
    "        s[i]=1\n",
    "print(s)"
   ]
  }
 ],
 "metadata": {
  "kernelspec": {
   "display_name": "Python 3 (ipykernel)",
   "language": "python",
   "name": "python3"
  },
  "language_info": {
   "codemirror_mode": {
    "name": "ipython",
    "version": 3
   },
   "file_extension": ".py",
   "mimetype": "text/x-python",
   "name": "python",
   "nbconvert_exporter": "python",
   "pygments_lexer": "ipython3",
   "version": "3.9.12"
  }
 },
 "nbformat": 4,
 "nbformat_minor": 5
}
